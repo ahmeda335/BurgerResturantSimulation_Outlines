{
  "nbformat": 4,
  "nbformat_minor": 0,
  "metadata": {
    "colab": {
      "provenance": [],
      "gpuType": "T4",
      "authorship_tag": "ABX9TyO06uMXP7PI8AgtubjipJSy",
      "include_colab_link": true
    },
    "kernelspec": {
      "name": "python3",
      "display_name": "Python 3"
    },
    "language_info": {
      "name": "python"
    },
    "accelerator": "GPU"
  },
  "cells": [
    {
      "cell_type": "markdown",
      "metadata": {
        "id": "view-in-github",
        "colab_type": "text"
      },
      "source": [
        "<a href=\"https://colab.research.google.com/github/ahmeda335/BurgerResturantSimulation_Outlines/blob/main/BurgerResturant.ipynb\" target=\"_parent\"><img src=\"https://colab.research.google.com/assets/colab-badge.svg\" alt=\"Open In Colab\"/></a>"
      ]
    },
    {
      "cell_type": "markdown",
      "source": [
        "# ***Making an LLM response for customers' requests in a Burger resturant.***🩻♻️🍔\n",
        "## - This code tries to mimitate the jop of a phone order taker in a burger resturant, by using a model that take orders from customers in natural language then tries to extract the components of the order, then shaping it in a json format.<br>\n",
        "---\n",
        "# Note:\n",
        "## --> This is not an optimal code, it handles some of cases, but there still many cases to handle more 😊.\n",
        "## --> There are other libraries that offers the same advantage - and maybe better -.\n",
        "## --> The efficiency of the code depends on the model used."
      ],
      "metadata": {
        "id": "h7NYjoN1O1pe"
      }
    },
    {
      "cell_type": "markdown",
      "source": [
        "###⚡ Installing required packages."
      ],
      "metadata": {
        "id": "0VQ3Gux8UV_D"
      }
    },
    {
      "cell_type": "code",
      "execution_count": null,
      "metadata": {
        "id": "kMModwqo6XOC"
      },
      "outputs": [],
      "source": [
        "!pip install -q outlines\n",
        "!pip install -q transformers\n",
        "!pip install -q autoawq\n",
        "!pip install -q accelerate\n",
        "!pip install -q torch==2.4.0"
      ]
    },
    {
      "cell_type": "code",
      "source": [
        "import outlines\n",
        "import torch\n",
        "\n",
        "from enum import Enum\n",
        "from pydantic import BaseModel"
      ],
      "metadata": {
        "id": "wL-VKqvCOx6Z"
      },
      "execution_count": null,
      "outputs": []
    },
    {
      "cell_type": "markdown",
      "source": [
        "### ⚡ Setting outlines prompts used in the code."
      ],
      "metadata": {
        "id": "-o43j6SCU1oQ"
      }
    },
    {
      "cell_type": "markdown",
      "source": [
        "##### Prompt of taking orders from customers."
      ],
      "metadata": {
        "id": "fnC2bTWpVAzK"
      }
    },
    {
      "cell_type": "code",
      "source": [
        "@outlines.prompt\n",
        "def take_order(order):\n",
        "    \"\"\"You are the owner of a Burger Resturant. Customers \\\n",
        "    send you orders from which you need to extract:\n",
        "\n",
        "    1. The Burger that is ordered\n",
        "    2. The number of Burgers\n",
        "    3. The drink that is ordered if any.\n",
        "    4. The number of the drinks if any.\n",
        "    5. The addings that are ordered if any.\n",
        "\n",
        "    # EXAMPLE\n",
        "\n",
        "    ORDER: I would like two Cheese Burger with Onion and Lettuce, and one Coke.\n",
        "    RESULT: {\"Burger\": \"Cheese Burger\", \"number\": 2, \"Drink\": \"Coke\", \"Addings\": \"Onion, Lettuce\"}\n",
        "\n",
        "\n",
        "    # OUTPUT INSTRUCTIONS\n",
        "\n",
        "    Answer in valid JSON. Here are the different objects relevant for the output:\n",
        "\n",
        "    Order:\n",
        "        Burger (str): name of the burger\n",
        "        burger_number (int): number of Burgars\n",
        "        Drink (str): name of the drink\n",
        "        drink_number (int): number of drinks\n",
        "        Addings (list[str]): list of addings\n",
        "\n",
        "\n",
        "    Return a valid JSON of type \"Order\"\n",
        "\n",
        "    # OUTPUT\n",
        "\n",
        "    ORDER: {{ order }}\n",
        "    RESULT: \"\"\""
      ],
      "metadata": {
        "id": "vJbwIm0fO2BY"
      },
      "execution_count": null,
      "outputs": []
    },
    {
      "cell_type": "markdown",
      "source": [
        "##### Prompt of verifing that the order is correct."
      ],
      "metadata": {
        "id": "lsN-YzqJVQrU"
      }
    },
    {
      "cell_type": "code",
      "source": [
        "@outlines.prompt\n",
        "def order_verify(answer):\n",
        "    \"\"\"You are the owner of a Burger Resturant, and customers \\\n",
        "    send you orders then you extracted what they ordered, then you \\\n",
        "    need to verify if they are correct.\n",
        "\n",
        "\n",
        "    # EXAMPLE\n",
        "\n",
        "    ORDER: I would like two Cheese Burger with Onion and Lettuce, and one Coke.\n",
        "    RESULT: {\"Burger\": \"Cheese Burger\", \"number\": 2, \"Drink\": \"Coke\", \"Addings\": \"Onion, Lettuce\"}\n",
        "    VERIFICATION: The order is correct.\n",
        "    Customer: Yes the order is correct.\n",
        "    return: True [boolean value]\n",
        "\n",
        "\n",
        "    # OUTPUT INSTRUCTIONS\n",
        "\n",
        "    Answer in a boolean value. Here are the different objects relevant for the output:\n",
        "\n",
        "    makingSure:\n",
        "        True or False (boolean value)\n",
        "\n",
        "\n",
        "    Return a boolean value\n",
        "\n",
        "    # OUTPUT\n",
        "\n",
        "    Verification: {{ answer }}\n",
        "    RESULT: \"\"\""
      ],
      "metadata": {
        "id": "OJ7QhxQqhAuS"
      },
      "execution_count": null,
      "outputs": []
    },
    {
      "cell_type": "markdown",
      "source": [
        "###  ⚡Setting some classes used in the prompts using pydantic to detect the shape of the out."
      ],
      "metadata": {
        "id": "C_I3yiqiVWPk"
      }
    },
    {
      "cell_type": "code",
      "source": [
        "class Burger(str, Enum):\n",
        "    Smash_Burger = \"Smash Burger\"\n",
        "    Cheese_Burger = \"Cheese Burger\"\n",
        "    Double_Cheese_Burger = \"Double Cheese Burger\"\n",
        "    Chicken_Burger = \"Chicken Burger\"\n",
        "    Veggie_Burger = \"Veggie Burger\"\n",
        "\n",
        "\n",
        "class Drink(str, Enum):\n",
        "    Coke = \"Coke\"\n",
        "    Pepsi = \"Pepsi\"\n",
        "    Sprite = \"Sprite\"\n",
        "    Fanta = \"Fanta\"\n",
        "    Water = \"Water\"\n",
        "\n",
        "\n",
        "class Addings(str, Enum):\n",
        "    Lettuce = \"Lettuce\"\n",
        "    Tomato = \"Tomato\"\n",
        "    Onion = \"Onion\"\n",
        "    Pickle = \"Pickle\"\n",
        "    Mushroom = \"Mushroom\"\n",
        "    Cheese = \"Cheese\"\n",
        "    Mayo = \"Mayo\"\n",
        "    Mustard = \"Mustard\"\n",
        "    Ketchup = \"Ketchup\"\n",
        "    BBQ_Sauce = \"BBQ Sauce\"\n",
        "\n",
        "class BurgerOrder(BaseModel):\n",
        "    burger: Burger\n",
        "    number: int\n",
        "    addings: list[Addings]\n",
        "\n",
        "class DrinkOrder(BaseModel):\n",
        "    drink: Drink\n",
        "    number: int\n",
        "\n",
        "class OneOrder(BaseModel):\n",
        "    burger: list[BurgerOrder]\n",
        "    drink: list[DrinkOrder]\n",
        "    order: int\n",
        "\n",
        "# class Orders(BaseModel):\n",
        "#     order: OneOrder\n",
        "#     number: int\n",
        "\n",
        "\n",
        "class Verify(BaseModel):\n",
        "    makingSure: bool"
      ],
      "metadata": {
        "id": "tKxlmtq7QCKt"
      },
      "execution_count": null,
      "outputs": []
    },
    {
      "cell_type": "markdown",
      "source": [
        "###  ⚡ Setting the model used."
      ],
      "metadata": {
        "id": "RzxnMQPfVtJO"
      }
    },
    {
      "cell_type": "code",
      "source": [
        "model = outlines.models.transformers(\"TheBloke/Mistral-7B-OpenOrca-AWQ\", device=\"cuda\")"
      ],
      "metadata": {
        "id": "_sB6lXWSQDX1"
      },
      "execution_count": null,
      "outputs": []
    },
    {
      "cell_type": "markdown",
      "source": [
        "### ⚡ Taking the order from the customer and verify it."
      ],
      "metadata": {
        "id": "4Dk5KDufV0ya"
      }
    },
    {
      "cell_type": "code",
      "source": [
        "# The customer enter the order here.\n",
        "orders = [\"Hi! I want one cheese burger with no addings, two smash burgers with lettuce and tomato, two coke, and a bottle of water.\"]\n",
        "\n",
        "\n",
        "def taking_order(_orders):\n",
        "\n",
        "  order_prompts = take_order(_orders)\n",
        "  order_generator = outlines.generate.json(model, OneOrder)\n",
        "  results = order_generator(order_prompts)\n",
        "  return results\n"
      ],
      "metadata": {
        "id": "It3NwfVfQIZX"
      },
      "execution_count": null,
      "outputs": []
    },
    {
      "cell_type": "code",
      "source": [
        "results = taking_order(orders)\n",
        "print(results)"
      ],
      "metadata": {
        "id": "-Qm8S_EXhLW8"
      },
      "execution_count": null,
      "outputs": []
    },
    {
      "cell_type": "code",
      "source": [
        "def orders_verify(results):\n",
        "    burgers = results.burger\n",
        "    drinks = results.drink\n",
        "\n",
        "    print(\"You ordered:\")\n",
        "    for burger in burgers:\n",
        "      print(f\"- {burger.number} {burger.burger} with {', '.join([adding.value for adding in burger.addings])}\")\n",
        "    for drink in drinks:\n",
        "      print(f\"- {drink.number} {drink.drink}\")\n",
        "    print(\"Are these orders correct? \")\n",
        "    ans = \"No, My orders are not correct\"  # \"No these orders are not correct.\"\n",
        "\n",
        "    verify_prompts = order_verify(ans)\n",
        "    verify_generator = outlines.generate.json(model, Verify)\n",
        "    makingSure = verify_generator(verify_prompts)\n",
        "    print (makingSure)\n",
        "\n",
        "    verify = makingSure.makingSure\n",
        "\n",
        "    return verify"
      ],
      "metadata": {
        "id": "fRclEnephODy"
      },
      "execution_count": null,
      "outputs": []
    },
    {
      "cell_type": "code",
      "source": [
        "def setting_order(results):\n",
        "  print(\"Your order is on the way....\")\n",
        "  print(\"Thank you for your order!\")"
      ],
      "metadata": {
        "id": "Nk-4YXNXhQWU"
      },
      "execution_count": null,
      "outputs": []
    },
    {
      "cell_type": "code",
      "source": [
        "verify = False\n",
        "\n",
        "# As long as the order is not correct, the customer enter his order again.\n",
        "while not verify:\n",
        "  verify = orders_verify(results)\n",
        "  if verify:\n",
        "    setting_order(results)\n",
        "    continue\n",
        "  else:\n",
        "    print(\"Please enter your orders again\")\n",
        "    orders = input(\"Type your orders here: \")\n",
        "    results = taking_order(orders)"
      ],
      "metadata": {
        "id": "Ycps7gkKhS3n"
      },
      "execution_count": null,
      "outputs": []
    }
  ]
}